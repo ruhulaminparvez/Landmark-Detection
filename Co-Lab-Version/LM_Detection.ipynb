{
  "nbformat": 4,
  "nbformat_minor": 0,
  "metadata": {
    "colab": {
      "name": "Tour-Guide.ipynb",
      "provenance": []
    },
    "kernelspec": {
      "name": "python3",
      "display_name": "Python 3"
    },
    "language_info": {
      "name": "python"
    }
  },
  "cells": [
    {
      "cell_type": "code",
      "execution_count": 2,
      "metadata": {
        "id": "o0cBC3IXPRKh"
      },
      "outputs": [],
      "source": [
        "import streamlit as st\n",
        "import PIL\n",
        "import tensorflow as tf\n",
        "import tensorflow_hub as hub\n",
        "import numpy as np\n",
        "import pandas as pd\n",
        "from geopy.geocoders import Nominatim"
      ]
    },
    {
      "cell_type": "code",
      "source": [
        "model_url = 'https://tfhub.dev/google/on_device_vision/classifier/landmarks_classifier_asia_V1/1'\n",
        "# model_url = 'on_device_vision_classifier_landmarks_classifier_asia_V1_1'\n",
        "\n",
        "# label_url = 'https://www.gstatic.com/aihub/tfhub/labelmaps/landmarks_classifier_asia_V1_label_map.csv'\n",
        "labels = '/content/landmarks_classifier_asia_V1_label_map.csv'"
      ],
      "metadata": {
        "id": "1NT-8fiYJa7C"
      },
      "execution_count": 22,
      "outputs": []
    },
    {
      "cell_type": "code",
      "source": [
        "img_shape = (321, 321)\n",
        "classifier = tf.keras.Sequential([hub.KerasLayer(model_url, input_shape=img_shape + (3,), output_key=\"predictions:logits\")])\n",
        "df = pd.read_csv(labels)\n",
        "labels = dict(zip(df.id, df.name))\n",
        "\n",
        "#Testing on Image\n",
        "img = PIL.Image.open('/content/perl-bd.jpg')\n",
        "img = img.resize(img_shape)\n",
        "img = np.array(img) / 255.0\n",
        "img = img[np.newaxis]\n",
        "result = classifier.predict(img)\n",
        "print(labels[np.argmax(result)])\n",
        "\n",
        "#For Location\n",
        "result_for_location = classifier.predict(img)\n",
        "predicted_address = labels[np.argmax(result)]"
      ],
      "metadata": {
        "colab": {
          "base_uri": "https://localhost:8080/"
        },
        "id": "0A08T5xwJdGd",
        "outputId": "99a7f870-a69b-4a81-901f-38d0920867a0"
      },
      "execution_count": 23,
      "outputs": [
        {
          "output_type": "stream",
          "name": "stderr",
          "text": [
            "INFO:tensorflow:Saver not created because there are no variables in the graph to restore\n",
            "2022-08-12 09:11:57.558 INFO    tensorflow: Saver not created because there are no variables in the graph to restore\n"
          ]
        },
        {
          "output_type": "stream",
          "name": "stdout",
          "text": [
            "National Parliament House\n"
          ]
        }
      ]
    },
    {
      "cell_type": "code",
      "source": [
        "address = predicted_address\n",
        "geolocator = Nominatim(user_agent=\"Ruhul Amin Parvez\")\n",
        "location = geolocator.geocode(address)\n",
        "print(location.address,location.latitude, location.longitude)"
      ],
      "metadata": {
        "colab": {
          "base_uri": "https://localhost:8080/"
        },
        "id": "Ad7wbMzHJiO1",
        "outputId": "9de91061-a141-496a-95ff-2f6485da667e"
      },
      "execution_count": 25,
      "outputs": [
        {
          "output_type": "stream",
          "name": "stdout",
          "text": [
            "জাতীয় সংসদ ভবন, সংসদ ভবন সড়ক, সোবহানবাগ, ঢাকা, ঢাকা মহানগর, ঢাকা জেলা, ঢাকা বিভাগ, 1207, বাংলাদেশ 23.762313849999998 90.37860477469312\n"
          ]
        }
      ]
    }
  ]
}